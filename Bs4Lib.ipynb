{
 "cells": [
  {
   "cell_type": "code",
   "execution_count": null,
   "id": "0d6e5613-8b68-454e-adfb-3170dea5b32e",
   "metadata": {},
   "outputs": [],
   "source": [
    "''' \n",
    "bs4 全名 BeautifulSoup，是编写 python 爬虫常用库之一，主要用来解析 html 标签 \n",
    "\n",
    "'''"
   ]
  },
  {
   "cell_type": "code",
   "execution_count": 6,
   "id": "9802a294-d107-4115-916f-136eff809d10",
   "metadata": {},
   "outputs": [
    {
     "name": "stdout",
     "output_type": "stream",
     "text": [
      "<p class=\"title\"><b>The Dormouse's story</b></p><p class=\"story\">Once upon a time there were three little sisters; and their names were\n",
      "        <a class=\"sister\" href=\"http://example.com/elsie\" id=\"link1\">Elsie</a>,\n",
      "        <a class=\"sister\" href=\"http://example.com/lacie\" id=\"link2\">Lacie</a> and\n",
      "        <a class=\"sister\" href=\"http://example.com/tillie\" id=\"link3\">Tillie</a>;\n",
      "    </p><p class=\"story\">...</p>\n"
     ]
    }
   ],
   "source": [
    "from bs4 import BeautifulSoup\n",
    "from bs4 import SoupStrainer\n",
    "\n",
    "\n",
    "html_doc = \"\"\"<html>\n",
    "    <head>\n",
    "        <title>The Dormouse's story</title>\n",
    "    </head>\n",
    "<body>\n",
    "    <p class=\"title\"><b>The Dormouse's story</b></p>\n",
    "    <p class=\"story\">Once upon a time there were three little sisters; and their names were\n",
    "        <a href=\"http://example.com/elsie\" class=\"sister\" id=\"link1\">Elsie</a>,\n",
    "        <a href=\"http://example.com/lacie\" class=\"sister\" id=\"link2\">Lacie</a> and\n",
    "        <a href=\"http://example.com/tillie\" class=\"sister\" id=\"link3\">Tillie</a>;\n",
    "    </p>\n",
    "        and they lived at the bottom of a well.\n",
    "    <p class=\"story\">...</p>\n",
    "</body>\n",
    "\"\"\"\n",
    "# 所有a标签\n",
    "a_tags = SoupStrainer('a')\n",
    "clss_tags = SoupStrainer(class_=(\"title\", \"story\"))\n",
    "\n",
    "soup = BeautifulSoup(html_doc, \"html.parser\",parse_only=clss_tags)\n",
    "\n",
    "\n",
    "print(soup)"
   ]
  },
  {
   "cell_type": "code",
   "execution_count": null,
   "id": "d80d422d-98d0-4aed-acd5-a4f475e605c4",
   "metadata": {},
   "outputs": [],
   "source": []
  }
 ],
 "metadata": {
  "kernelspec": {
   "display_name": "Python 3 (ipykernel)",
   "language": "python",
   "name": "python3"
  },
  "language_info": {
   "codemirror_mode": {
    "name": "ipython",
    "version": 3
   },
   "file_extension": ".py",
   "mimetype": "text/x-python",
   "name": "python",
   "nbconvert_exporter": "python",
   "pygments_lexer": "ipython3",
   "version": "3.12.3"
  }
 },
 "nbformat": 4,
 "nbformat_minor": 5
}
