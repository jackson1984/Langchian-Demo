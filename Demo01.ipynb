{
 "cells": [
  {
   "cell_type": "code",
   "execution_count": 1,
   "id": "9816f94d-eb1b-4b5d-9c01-0350a7e401cc",
   "metadata": {},
   "outputs": [],
   "source": [
    "def fun(name: str, age: '是一个大于零的整数值' = 52) -> '返回值为真':\n",
    "    \"\"\"\n",
    "    这个是函数的帮助说明文档，help时会显示\n",
    "    函数声明中，name:str\n",
    "    name 是参数 :冒号后面  str是参数的注释。\n",
    "    如果参数有默认值，还要给注释，如下写。\n",
    "    age:'是一个大于零的整数值'=52\n",
    "    \n",
    "    ->'返回值为真' 是函数返回值的注释。\n",
    "    \n",
    "    这些注释信息都是函数的元信息，保存在f.__annotations__字典中、\n",
    "    \n",
    "    需要注意，python对注释信息和f.__annotations__的一致性，不做检查\n",
    "    不做检查，不做强制，不做验证！什么都不做。\n",
    "    :param name:\n",
    "    :param age:\n",
    "    :return:\n",
    "    \"\"\"\n",
    "    return True"
   ]
  },
  {
   "cell_type": "code",
   "execution_count": 2,
   "id": "cc09f3ca-3264-4f81-984d-7ca90dbd316e",
   "metadata": {},
   "outputs": [
    {
     "name": "stdout",
     "output_type": "stream",
     "text": [
      "{'name': <class 'str'>, 'age': '是一个大于零的整数值', 'return': '返回值为真'}\n"
     ]
    }
   ],
   "source": [
    "print(fun.__annotations__)"
   ]
  }
 ],
 "metadata": {
  "kernelspec": {
   "display_name": "Python 3 (ipykernel)",
   "language": "python",
   "name": "python3"
  },
  "language_info": {
   "codemirror_mode": {
    "name": "ipython",
    "version": 3
   },
   "file_extension": ".py",
   "mimetype": "text/x-python",
   "name": "python",
   "nbconvert_exporter": "python",
   "pygments_lexer": "ipython3",
   "version": "3.12.3"
  }
 },
 "nbformat": 4,
 "nbformat_minor": 5
}
